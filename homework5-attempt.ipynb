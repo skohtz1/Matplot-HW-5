{
 "cells": [
  {
   "cell_type": "code",
   "execution_count": 15,
   "metadata": {},
   "outputs": [],
   "source": [
    "import pandas as pd\n",
    "import numpy as np\n",
    "import matplotlib.pyplot as plt\n",
    "from scipy.stats import linregress\n",
    "from scipy.stats import sem\n",
    "import scipy.stats as stats"
   ]
  },
  {
   "cell_type": "code",
   "execution_count": 2,
   "metadata": {},
   "outputs": [],
   "source": [
    "clinicaldata = \"raw_data/clinicaltrial_data.csv\"\n",
    "mousedata = \"raw_data/mouse_drug_data.csv\""
   ]
  },
  {
   "cell_type": "code",
   "execution_count": 3,
   "metadata": {},
   "outputs": [
    {
     "data": {
      "text/html": [
       "<div>\n",
       "<style>\n",
       "    .dataframe thead tr:only-child th {\n",
       "        text-align: right;\n",
       "    }\n",
       "\n",
       "    .dataframe thead th {\n",
       "        text-align: left;\n",
       "    }\n",
       "\n",
       "    .dataframe tbody tr th {\n",
       "        vertical-align: top;\n",
       "    }\n",
       "</style>\n",
       "<table border=\"1\" class=\"dataframe\">\n",
       "  <thead>\n",
       "    <tr style=\"text-align: right;\">\n",
       "      <th></th>\n",
       "      <th>Mouse ID</th>\n",
       "      <th>Timepoint</th>\n",
       "      <th>Tumor Volume (mm3)</th>\n",
       "      <th>Metastatic Sites</th>\n",
       "    </tr>\n",
       "  </thead>\n",
       "  <tbody>\n",
       "    <tr>\n",
       "      <th>0</th>\n",
       "      <td>b128</td>\n",
       "      <td>0</td>\n",
       "      <td>45.0</td>\n",
       "      <td>0</td>\n",
       "    </tr>\n",
       "    <tr>\n",
       "      <th>1</th>\n",
       "      <td>f932</td>\n",
       "      <td>0</td>\n",
       "      <td>45.0</td>\n",
       "      <td>0</td>\n",
       "    </tr>\n",
       "    <tr>\n",
       "      <th>2</th>\n",
       "      <td>g107</td>\n",
       "      <td>0</td>\n",
       "      <td>45.0</td>\n",
       "      <td>0</td>\n",
       "    </tr>\n",
       "    <tr>\n",
       "      <th>3</th>\n",
       "      <td>a457</td>\n",
       "      <td>0</td>\n",
       "      <td>45.0</td>\n",
       "      <td>0</td>\n",
       "    </tr>\n",
       "    <tr>\n",
       "      <th>4</th>\n",
       "      <td>c819</td>\n",
       "      <td>0</td>\n",
       "      <td>45.0</td>\n",
       "      <td>0</td>\n",
       "    </tr>\n",
       "  </tbody>\n",
       "</table>\n",
       "</div>"
      ],
      "text/plain": [
       "  Mouse ID  Timepoint  Tumor Volume (mm3)  Metastatic Sites\n",
       "0     b128          0                45.0                 0\n",
       "1     f932          0                45.0                 0\n",
       "2     g107          0                45.0                 0\n",
       "3     a457          0                45.0                 0\n",
       "4     c819          0                45.0                 0"
      ]
     },
     "execution_count": 3,
     "metadata": {},
     "output_type": "execute_result"
    }
   ],
   "source": [
    "clinicaldata_pd= pd.read_csv(clinicaldata)\n",
    "mousedata_pd= pd.read_csv(mousedata)\n",
    "clinicaldata_pd.head()"
   ]
  },
  {
   "cell_type": "code",
   "execution_count": 4,
   "metadata": {},
   "outputs": [
    {
     "data": {
      "text/html": [
       "<div>\n",
       "<style>\n",
       "    .dataframe thead tr:only-child th {\n",
       "        text-align: right;\n",
       "    }\n",
       "\n",
       "    .dataframe thead th {\n",
       "        text-align: left;\n",
       "    }\n",
       "\n",
       "    .dataframe tbody tr th {\n",
       "        vertical-align: top;\n",
       "    }\n",
       "</style>\n",
       "<table border=\"1\" class=\"dataframe\">\n",
       "  <thead>\n",
       "    <tr style=\"text-align: right;\">\n",
       "      <th></th>\n",
       "      <th>Mouse ID</th>\n",
       "      <th>Drug</th>\n",
       "    </tr>\n",
       "  </thead>\n",
       "  <tbody>\n",
       "    <tr>\n",
       "      <th>0</th>\n",
       "      <td>f234</td>\n",
       "      <td>Stelasyn</td>\n",
       "    </tr>\n",
       "    <tr>\n",
       "      <th>1</th>\n",
       "      <td>x402</td>\n",
       "      <td>Stelasyn</td>\n",
       "    </tr>\n",
       "    <tr>\n",
       "      <th>2</th>\n",
       "      <td>a492</td>\n",
       "      <td>Stelasyn</td>\n",
       "    </tr>\n",
       "    <tr>\n",
       "      <th>3</th>\n",
       "      <td>w540</td>\n",
       "      <td>Stelasyn</td>\n",
       "    </tr>\n",
       "    <tr>\n",
       "      <th>4</th>\n",
       "      <td>v764</td>\n",
       "      <td>Stelasyn</td>\n",
       "    </tr>\n",
       "  </tbody>\n",
       "</table>\n",
       "</div>"
      ],
      "text/plain": [
       "  Mouse ID      Drug\n",
       "0     f234  Stelasyn\n",
       "1     x402  Stelasyn\n",
       "2     a492  Stelasyn\n",
       "3     w540  Stelasyn\n",
       "4     v764  Stelasyn"
      ]
     },
     "execution_count": 4,
     "metadata": {},
     "output_type": "execute_result"
    }
   ],
   "source": [
    "mousedata_pd.head()\n"
   ]
  },
  {
   "cell_type": "code",
   "execution_count": 49,
   "metadata": {},
   "outputs": [
    {
     "data": {
      "text/plain": [
       "0.83861724729856901"
      ]
     },
     "execution_count": 49,
     "metadata": {},
     "output_type": "execute_result"
    }
   ],
   "source": [
    "merge_table = pd.merge(mousedata_pd, clinicaldata_pd, on=\"Mouse ID\", how=\"outer\")\n",
    "merge_table = merge_table.dropna(axis = 1,how=\"any\")\n",
    "\n",
    "merge_table = merge_table[[\"Drug\",\"Timepoint\", \"Tumor Volume (mm3)\"]]\n",
    "#table = pivot_table(merge_table,)\n",
    "#grouped_data1 = merge_table.groupby(['Drug',\"Timepoint\"])\n",
    "table1 = pd.pivot_table(merge_table,values = \"Tumor Volume (mm3)\",index = [\"Timepoint\"],columns = [\"Drug\"],aggfunc=np.mean)\n",
    "table1sem = pd.pivot_table(merge_table,values = \"Tumor Volume (mm3)\",index = [\"Timepoint\"],columns = [\"Drug\"],aggfunc=stats.sem)\n",
    "table1sem.loc[15,\"Capomulin\"]"
   ]
  },
  {
   "cell_type": "code",
   "execution_count": 50,
   "metadata": {},
   "outputs": [
    {
     "data": {
      "text/html": [
       "<div>\n",
       "<style>\n",
       "    .dataframe thead tr:only-child th {\n",
       "        text-align: right;\n",
       "    }\n",
       "\n",
       "    .dataframe thead th {\n",
       "        text-align: left;\n",
       "    }\n",
       "\n",
       "    .dataframe tbody tr th {\n",
       "        vertical-align: top;\n",
       "    }\n",
       "</style>\n",
       "<table border=\"1\" class=\"dataframe\">\n",
       "  <thead>\n",
       "    <tr style=\"text-align: right;\">\n",
       "      <th>Drug</th>\n",
       "      <th>Capomulin</th>\n",
       "      <th>Ceftamin</th>\n",
       "      <th>Infubinol</th>\n",
       "      <th>Ketapril</th>\n",
       "      <th>Naftisol</th>\n",
       "      <th>Placebo</th>\n",
       "      <th>Propriva</th>\n",
       "      <th>Ramicane</th>\n",
       "      <th>Stelasyn</th>\n",
       "      <th>Zoniferol</th>\n",
       "    </tr>\n",
       "    <tr>\n",
       "      <th>Timepoint</th>\n",
       "      <th></th>\n",
       "      <th></th>\n",
       "      <th></th>\n",
       "      <th></th>\n",
       "      <th></th>\n",
       "      <th></th>\n",
       "      <th></th>\n",
       "      <th></th>\n",
       "      <th></th>\n",
       "      <th></th>\n",
       "    </tr>\n",
       "  </thead>\n",
       "  <tbody>\n",
       "    <tr>\n",
       "      <th>0</th>\n",
       "      <td>0.000000</td>\n",
       "      <td>0.000000</td>\n",
       "      <td>0.000000</td>\n",
       "      <td>0.000000</td>\n",
       "      <td>0.000000</td>\n",
       "      <td>0.000000</td>\n",
       "      <td>0.000000</td>\n",
       "      <td>0.000000</td>\n",
       "      <td>0.000000</td>\n",
       "      <td>0.000000</td>\n",
       "    </tr>\n",
       "    <tr>\n",
       "      <th>5</th>\n",
       "      <td>0.448593</td>\n",
       "      <td>0.164505</td>\n",
       "      <td>0.235102</td>\n",
       "      <td>0.264819</td>\n",
       "      <td>0.202385</td>\n",
       "      <td>0.218091</td>\n",
       "      <td>0.231708</td>\n",
       "      <td>0.482955</td>\n",
       "      <td>0.239862</td>\n",
       "      <td>0.188950</td>\n",
       "    </tr>\n",
       "    <tr>\n",
       "      <th>10</th>\n",
       "      <td>0.702684</td>\n",
       "      <td>0.236144</td>\n",
       "      <td>0.282346</td>\n",
       "      <td>0.357421</td>\n",
       "      <td>0.319415</td>\n",
       "      <td>0.402064</td>\n",
       "      <td>0.376195</td>\n",
       "      <td>0.720225</td>\n",
       "      <td>0.433678</td>\n",
       "      <td>0.263949</td>\n",
       "    </tr>\n",
       "    <tr>\n",
       "      <th>15</th>\n",
       "      <td>0.838617</td>\n",
       "      <td>0.332053</td>\n",
       "      <td>0.357705</td>\n",
       "      <td>0.580268</td>\n",
       "      <td>0.444378</td>\n",
       "      <td>0.614461</td>\n",
       "      <td>0.466109</td>\n",
       "      <td>0.770432</td>\n",
       "      <td>0.493261</td>\n",
       "      <td>0.370544</td>\n",
       "    </tr>\n",
       "    <tr>\n",
       "      <th>20</th>\n",
       "      <td>0.909731</td>\n",
       "      <td>0.359482</td>\n",
       "      <td>0.476210</td>\n",
       "      <td>0.726484</td>\n",
       "      <td>0.595260</td>\n",
       "      <td>0.839609</td>\n",
       "      <td>0.555181</td>\n",
       "      <td>0.786199</td>\n",
       "      <td>0.621889</td>\n",
       "      <td>0.533182</td>\n",
       "    </tr>\n",
       "    <tr>\n",
       "      <th>25</th>\n",
       "      <td>0.881642</td>\n",
       "      <td>0.439356</td>\n",
       "      <td>0.550315</td>\n",
       "      <td>0.755413</td>\n",
       "      <td>0.813706</td>\n",
       "      <td>1.034872</td>\n",
       "      <td>0.577401</td>\n",
       "      <td>0.746991</td>\n",
       "      <td>0.741922</td>\n",
       "      <td>0.602513</td>\n",
       "    </tr>\n",
       "    <tr>\n",
       "      <th>30</th>\n",
       "      <td>0.934460</td>\n",
       "      <td>0.490620</td>\n",
       "      <td>0.631061</td>\n",
       "      <td>0.934121</td>\n",
       "      <td>0.975496</td>\n",
       "      <td>1.218231</td>\n",
       "      <td>0.746045</td>\n",
       "      <td>0.864906</td>\n",
       "      <td>0.899548</td>\n",
       "      <td>0.800043</td>\n",
       "    </tr>\n",
       "    <tr>\n",
       "      <th>35</th>\n",
       "      <td>1.052241</td>\n",
       "      <td>0.692248</td>\n",
       "      <td>0.984155</td>\n",
       "      <td>1.127867</td>\n",
       "      <td>1.013769</td>\n",
       "      <td>1.287481</td>\n",
       "      <td>1.084929</td>\n",
       "      <td>0.967433</td>\n",
       "      <td>1.003186</td>\n",
       "      <td>0.881426</td>\n",
       "    </tr>\n",
       "    <tr>\n",
       "      <th>40</th>\n",
       "      <td>1.223608</td>\n",
       "      <td>0.708505</td>\n",
       "      <td>1.055220</td>\n",
       "      <td>1.158449</td>\n",
       "      <td>1.118567</td>\n",
       "      <td>1.370634</td>\n",
       "      <td>1.564779</td>\n",
       "      <td>1.128445</td>\n",
       "      <td>1.410435</td>\n",
       "      <td>0.998515</td>\n",
       "    </tr>\n",
       "    <tr>\n",
       "      <th>45</th>\n",
       "      <td>1.223977</td>\n",
       "      <td>0.902358</td>\n",
       "      <td>1.144427</td>\n",
       "      <td>1.453186</td>\n",
       "      <td>1.416363</td>\n",
       "      <td>1.351726</td>\n",
       "      <td>1.888586</td>\n",
       "      <td>1.226805</td>\n",
       "      <td>1.576556</td>\n",
       "      <td>1.003576</td>\n",
       "    </tr>\n",
       "  </tbody>\n",
       "</table>\n",
       "</div>"
      ],
      "text/plain": [
       "Drug       Capomulin  Ceftamin  Infubinol  Ketapril  Naftisol   Placebo  \\\n",
       "Timepoint                                                                 \n",
       "0           0.000000  0.000000   0.000000  0.000000  0.000000  0.000000   \n",
       "5           0.448593  0.164505   0.235102  0.264819  0.202385  0.218091   \n",
       "10          0.702684  0.236144   0.282346  0.357421  0.319415  0.402064   \n",
       "15          0.838617  0.332053   0.357705  0.580268  0.444378  0.614461   \n",
       "20          0.909731  0.359482   0.476210  0.726484  0.595260  0.839609   \n",
       "25          0.881642  0.439356   0.550315  0.755413  0.813706  1.034872   \n",
       "30          0.934460  0.490620   0.631061  0.934121  0.975496  1.218231   \n",
       "35          1.052241  0.692248   0.984155  1.127867  1.013769  1.287481   \n",
       "40          1.223608  0.708505   1.055220  1.158449  1.118567  1.370634   \n",
       "45          1.223977  0.902358   1.144427  1.453186  1.416363  1.351726   \n",
       "\n",
       "Drug       Propriva  Ramicane  Stelasyn  Zoniferol  \n",
       "Timepoint                                           \n",
       "0          0.000000  0.000000  0.000000   0.000000  \n",
       "5          0.231708  0.482955  0.239862   0.188950  \n",
       "10         0.376195  0.720225  0.433678   0.263949  \n",
       "15         0.466109  0.770432  0.493261   0.370544  \n",
       "20         0.555181  0.786199  0.621889   0.533182  \n",
       "25         0.577401  0.746991  0.741922   0.602513  \n",
       "30         0.746045  0.864906  0.899548   0.800043  \n",
       "35         1.084929  0.967433  1.003186   0.881426  \n",
       "40         1.564779  1.128445  1.410435   0.998515  \n",
       "45         1.888586  1.226805  1.576556   1.003576  "
      ]
     },
     "execution_count": 50,
     "metadata": {},
     "output_type": "execute_result"
    }
   ],
   "source": [
    "table1sem"
   ]
  },
  {
   "cell_type": "code",
   "execution_count": 54,
   "metadata": {},
   "outputs": [
    {
     "data": {
      "text/plain": [
       "15"
      ]
     },
     "execution_count": 54,
     "metadata": {},
     "output_type": "execute_result"
    }
   ],
   "source": [
    "table1[\"Timepoint\"] = [0,5,10,15,20,25,30,35,40,45]\n",
    "timepoint = [0,5,10,15,20,25,30,35,40,45]\n"
   ]
  },
  {
   "cell_type": "code",
   "execution_count": null,
   "metadata": {},
   "outputs": [],
   "source": [
    "\n"
   ]
  },
  {
   "cell_type": "code",
   "execution_count": 57,
   "metadata": {},
   "outputs": [
    {
     "data": {
      "text/plain": [
       "0.53318230113007392"
      ]
     },
     "execution_count": 57,
     "metadata": {},
     "output_type": "execute_result"
    }
   ],
   "source": [
    "##This plots all of the drugs, problem is, you cannot really see much\n",
    "# fig,ax = plt.subplots()\n",
    "# colors = [\"b\",\"g\",\"r\",\"m\",\"k\",\"w\",'#00008B','#FFEBCD','#FF8C00','#9932CC']\n",
    "# markers = [\"o\",\"^\",\"*\",\"8\",\"D\",\"X\",\"p\",\"h\",\"s\",\"+\"]\n",
    "\n",
    "\n",
    "# for i in range(len(table1.columns)-1):\n",
    "#     plt.scatter(table1[\"Timepoint\"],table1[table1.columns[i]], marker = markers[i],facecolors =colors[i],edgecolors = \"black\")\n",
    "    \n",
    "# for i in range(len(table1.columns)-1):\n",
    "#     (slope, intercept, _, _, _) = linregress(table1[\"Timepoint\"], table1[table1.columns[i]])\n",
    "#     fit = slope * table1[\"Timepoint\"] + intercept\n",
    "#   #  ax.plot(table1[\"Timepoint\"],fit,colors[i],\"--\")\n",
    "  \n",
    "# plt.legend()\n",
    "# plt.ylim(30,70)\n",
    "# plt.show()\n",
    "\n",
    "a= pd.DataFrame(table1sem[\"Capomulin\"])\n",
    "table1sem.loc[timepoint[i],table1.columns[i+5]]\n"
   ]
  },
  {
   "cell_type": "code",
   "execution_count": 76,
   "metadata": {},
   "outputs": [
    {
     "data": {
      "image/png": "[encoded data removed]",
      "text/plain": [
       "<matplotlib.figure.Figure at 0x2a7588dfb00>"
      ]
     },
     "metadata": {},
     "output_type": "display_data"
    }
   ],
   "source": [
    "##This separates it into two graphs\n",
    "fig,ax = plt.subplots()\n",
    "colors = [\"b\",\"g\",\"r\",\"m\",\"k\",\"b\",\"g\",\"r\",\"m\",\"k\"]\n",
    "markers = [\"o\",\"^\",\"*\",\"8\",\"D\",\"X\",\"p\",\"h\",\"s\",\"+\"]\n",
    "for i in range(((len(table1.columns)-1)-((len(table1.columns)-1))//2)):\n",
    "    plt.scatter(table1[\"Timepoint\"],table1[table1.columns[i+5]], marker = markers[i+5],facecolors =colors[i+5],edgecolors = \"black\")\n",
    "    z = np.polyfit(table1[\"Timepoint\"],table1[table1.columns[i+5]], 1)\n",
    "    p = np.poly1d(z)\n",
    "    plt.plot(table1[\"Timepoint\"],p(table1[\"Timepoint\"]),colors[i+5]+\"--\")\n",
    "\n",
    "\n",
    "\n",
    "plt.legend(loc = \"best\")\n",
    "plt.ylim(30,120)\n",
    "plt.show()"
   ]
  },
  {
   "cell_type": "code",
   "execution_count": 62,
   "metadata": {},
   "outputs": [
    {
     "data": {
      "image/png": "[encoded data removed]",
      "text/plain": [
       "<matplotlib.figure.Figure at 0x2a7595c9f60>"
      ]
     },
     "metadata": {},
     "output_type": "display_data"
    }
   ],
   "source": []
  },
  {
   "cell_type": "code",
   "execution_count": 9,
   "metadata": {},
   "outputs": [],
   "source": [
    "merge_table1 = pd.merge(mousedata_pd, clinicaldata_pd, on=\"Mouse ID\", how=\"outer\")\n",
    "merge_table1 = merge_table1[[\"Drug\",\"Timepoint\",\"Metastatic Sites\"]]\n",
    "\n",
    "table2 = pd.pivot_table(merge_table1,values = \"Metastatic Sites\",index = [\"Timepoint\"],columns = [\"Drug\"],aggfunc=np.mean)\n",
    "table2[\"Timepoint\"] = [0,5,10,15,20,25,30,35,40,45]"
   ]
  },
  {
   "cell_type": "code",
   "execution_count": 10,
   "metadata": {},
   "outputs": [
    {
     "data": {
      "image/png": "[encoded data removed]",
      "text/plain": [
       "<matplotlib.figure.Figure at 0x2a757af1240>"
      ]
     },
     "metadata": {},
     "output_type": "display_data"
    },
    {
     "data": {
      "image/png": "[encoded data removed]",
      "text/plain": [
       "<matplotlib.figure.Figure at 0x2a7586375c0>"
      ]
     },
     "metadata": {},
     "output_type": "display_data"
    }
   ],
   "source": [
    "fig,ax = plt.subplots()\n",
    "for i in range(((len(table2.columns)-1)-((len(table2.columns)-1))//2)):\n",
    "    plt.scatter(table2[\"Timepoint\"],table2[table2.columns[i+5]], marker = markers[i+5],facecolors =colors[i+5],edgecolors = \"black\")\n",
    "    z = np.polyfit(table2[\"Timepoint\"],table2[table2.columns[i+5]], 1)\n",
    "    p = np.poly1d(z)\n",
    "    plt.plot(table2[\"Timepoint\"],p(table2[\"Timepoint\"]),colors[i+5]+\"--\")\n",
    "\n",
    "\n",
    "\n",
    "plt.legend(loc = \"best\")\n",
    "plt.ylim(-1,5)\n",
    "plt.show()\n",
    "\n",
    "\n",
    "\n",
    "for i in range(((len(table2.columns)-1)-((len(table2.columns)-1))//2)):\n",
    "    plt.scatter(table2[\"Timepoint\"],table2[table2.columns[i]], marker = markers[i],facecolors =colors[i],edgecolors = \"black\")\n",
    "    z = np.polyfit(table2[\"Timepoint\"],table2[table2.columns[i]], 1)\n",
    "    p = np.poly1d(z)\n",
    "    plt.plot(table2[\"Timepoint\"],p(table2[\"Timepoint\"]),colors[i]+\"--\")\n",
    "\n",
    "plt.legend(loc = \"best\")\n",
    "plt.ylim(-1,5)\n",
    "plt.show()"
   ]
  },
  {
   "cell_type": "code",
   "execution_count": 11,
   "metadata": {},
   "outputs": [
    {
     "ename": "NameError",
     "evalue": "name 'grouped_data1' is not defined",
     "output_type": "error",
     "traceback": [
      "\u001b[1;31m---------------------------------------------------------------------------\u001b[0m",
      "\u001b[1;31mNameError\u001b[0m                                 Traceback (most recent call last)",
      "\u001b[1;32m<ipython-input-11-bac8114453fb>\u001b[0m in \u001b[0;36m<module>\u001b[1;34m()\u001b[0m\n\u001b[0;32m      2\u001b[0m \u001b[0mgroup_names\u001b[0m \u001b[1;33m=\u001b[0m \u001b[1;33m[\u001b[0m\u001b[1;34m'0'\u001b[0m\u001b[1;33m,\u001b[0m \u001b[1;34m'5'\u001b[0m\u001b[1;33m,\u001b[0m \u001b[1;34m'10'\u001b[0m\u001b[1;33m,\u001b[0m \u001b[1;34m'15'\u001b[0m\u001b[1;33m,\u001b[0m\u001b[1;34m'20'\u001b[0m\u001b[1;33m,\u001b[0m\u001b[1;34m'25'\u001b[0m\u001b[1;33m,\u001b[0m\u001b[1;34m'30'\u001b[0m\u001b[1;33m,\u001b[0m\u001b[1;34m'35'\u001b[0m\u001b[1;33m,\u001b[0m\u001b[1;34m'40'\u001b[0m\u001b[1;33m,\u001b[0m\u001b[1;34m'45'\u001b[0m\u001b[1;33m]\u001b[0m\u001b[1;33m\u001b[0m\u001b[0m\n\u001b[0;32m      3\u001b[0m \u001b[1;31m#table1= pd.cut(grouped_data[\"Timepoint\"], bins, labels=group_names)\u001b[0m\u001b[1;33m\u001b[0m\u001b[1;33m\u001b[0m\u001b[0m\n\u001b[1;32m----> 4\u001b[1;33m \u001b[0mgrouped_data\u001b[0m \u001b[1;33m=\u001b[0m \u001b[0mgrouped_data1\u001b[0m\u001b[1;33m[\u001b[0m\u001b[1;33m[\u001b[0m\u001b[1;34m\"Drug\"\u001b[0m\u001b[1;33m,\u001b[0m\u001b[1;34m\"Tumor Volume (mm3)\"\u001b[0m\u001b[1;33m]\u001b[0m\u001b[1;33m]\u001b[0m\u001b[1;33m\u001b[0m\u001b[0m\n\u001b[0m\u001b[0;32m      5\u001b[0m \u001b[1;31m#grouped_data[\"Drug\"].unique()\u001b[0m\u001b[1;33m\u001b[0m\u001b[1;33m\u001b[0m\u001b[0m\n\u001b[0;32m      6\u001b[0m \u001b[0mgrouped_data\u001b[0m\u001b[1;33m.\u001b[0m\u001b[0mmean\u001b[0m\u001b[1;33m(\u001b[0m\u001b[1;33m)\u001b[0m\u001b[1;33m\u001b[0m\u001b[0m\n",
      "\u001b[1;31mNameError\u001b[0m: name 'grouped_data1' is not defined"
     ]
    }
   ],
   "source": [
    "bins = [0,1, 5, 10, 15, 20,25,30,35,40,45]\n",
    "group_names = ['0', '5', '10', '15','20','25','30','35','40','45']\n",
    "#table1= pd.cut(grouped_data[\"Timepoint\"], bins, labels=group_names)\n",
    "grouped_data = grouped_data1[[\"Drug\",\"Tumor Volume (mm3)\"]]\n",
    "#grouped_data[\"Drug\"].unique()\n",
    "grouped_data.mean()"
   ]
  },
  {
   "cell_type": "code",
   "execution_count": null,
   "metadata": {},
   "outputs": [],
   "source": [
    "table2.columns"
   ]
  },
  {
   "cell_type": "code",
   "execution_count": null,
   "metadata": {},
   "outputs": [],
   "source": []
  }
 ],
 "metadata": {
  "kernelspec": {
   "display_name": "Python 3",
   "language": "python",
   "name": "python3"
  },
  "language_info": {
   "codemirror_mode": {
    "name": "ipython",
    "version": 3
   },
   "file_extension": ".py",
   "mimetype": "text/x-python",
   "name": "python",
   "nbconvert_exporter": "python",
   "pygments_lexer": "ipython3",
   "version": "3.6.3"
  }
 },
 "nbformat": 4,
 "nbformat_minor": 2
}
